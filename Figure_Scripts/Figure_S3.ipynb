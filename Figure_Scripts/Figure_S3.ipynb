{
 "cells": [
  {
   "cell_type": "code",
   "execution_count": 1,
   "metadata": {},
   "outputs": [],
   "source": [
    "import numpy as np\n",
    "import matplotlib.cm as cm\n",
    "from matplotlib import ticker\n",
    "import math\n",
    "import scipy\n",
    "from scipy import spatial\n",
    "import matplotlib.pyplot as plt\n",
    "import matplotlib\n",
    "import xarray as xr\n",
    "import dask\n",
    "from sklearn.neighbors import KDTree\n",
    "import netCDF4\n",
    "from metpy import calc\n",
    "from metpy.units import units\n",
    "from sklearn.preprocessing import StandardScaler\n",
    "from sklearn.decomposition import PCA\n",
    "from scipy import stats\n",
    "import pandas as pd\n",
    "\n",
    "import cartopy\n",
    "import cartopy.feature as cfeature\n",
    "import cartopy.crs as ccrs\n",
    "\n",
    "from sklearn.cluster import KMeans\n",
    "from mpl_toolkits.axes_grid1 import make_axes_locatable\n",
    "from sklearn import metrics\n",
    "from scipy.ndimage import gaussian_filter\n",
    "from sklearn.linear_model import LinearRegression"
   ]
  },
  {
   "cell_type": "code",
   "execution_count": 2,
   "metadata": {},
   "outputs": [],
   "source": [
    "path_to_file = '/DFS-L/DATA/pritchard/gmooers/Raw_Data_Storage/MAPS/SPCAM/100_Days/New_SPCAM5/archive/TimestepOutput_Neuralnet_SPCAM_216/atm/hist/TimestepOutput_Neuralnet_SPCAM_216.cam.h1.2009-01-01-00000.nc'\n",
    "extra_variables = xr.open_dataset(path_to_file)\n",
    "latitudes = np.squeeze(extra_variables.LAT_20s_to_20n.values)\n",
    "longitudes = np.squeeze(extra_variables.LON_0e_to_360e.values)\n",
    "new_lons, new_lats = np.meshgrid(longitudes, latitudes)"
   ]
  },
  {
   "cell_type": "code",
   "execution_count": 3,
   "metadata": {},
   "outputs": [],
   "source": [
    "lat_keys = np.arange(0,22,1)\n",
    "lat_values = latitudes\n",
    "lon_keys = np.arange(0,144,1)\n",
    "lon_values = longitudes"
   ]
  },
  {
   "cell_type": "code",
   "execution_count": 4,
   "metadata": {},
   "outputs": [],
   "source": [
    "lat_dic = dict(zip(lat_values, lat_keys))\n",
    "lon_dic = dict(zip(lon_values, lon_keys))"
   ]
  },
  {
   "cell_type": "markdown",
   "metadata": {},
   "source": [
    "# Qsat Code Section"
   ]
  },
  {
   "cell_type": "code",
   "execution_count": 5,
   "metadata": {},
   "outputs": [],
   "source": [
    "def magnus_esat_ice(temperature):\n",
    "    temperature = temperature - 273.15\n",
    "    esat = 611.21*np.exp((22.587*temperature)/(temperature+273.86))\n",
    "\n",
    "    return esat\n",
    "    \n",
    "def magnus_esat_water(temperature):\n",
    "    temperature = temperature - 273.15\n",
    "    esat = 610.94*np.exp((17.265*temperature)/(temperature+243.04))\n",
    "    return esat\n",
    "\n",
    "def MAGNUS(T):\n",
    "    R = 287\n",
    "    Rv = 461\n",
    "    esat_water = magnus_esat_water(T)\n",
    "    esat_ice = esat = magnus_esat_ice(T)\n",
    "    esat_water[T < 273.15] = 0\n",
    "    esat_ice[T >= 273.15] = 0\n",
    "    esat = esat_ice+esat_water \n",
    "    return esat"
   ]
  },
  {
   "cell_type": "code",
   "execution_count": 6,
   "metadata": {},
   "outputs": [],
   "source": [
    "def e_sat_general(temperature):\n",
    "    temperature - 273.15\n",
    "    esat_water = esat = (np.exp(34.494-(4924.99/(temperature+273.1))))/(temperature+105)**1.37\n",
    "    esat_ice = (np.exp(43.494-(6545.8/(temperature+278.0))))/(temperature+868.0)**2\n",
    "    esat_water[temperature < 0] = 0\n",
    "    esat_ice[temperature >= 0] = 0\n",
    "    esat = esat_ice+esat_water \n",
    "    return esat"
   ]
  },
  {
   "cell_type": "code",
   "execution_count": 7,
   "metadata": {},
   "outputs": [],
   "source": [
    "def q_sat(temperature, pressure):\n",
    "    top = (461./287.) * MAGNUS(temperature)\n",
    "    bottom = pressure - (1 - (461./287.))*MAGNUS(temperature)\n",
    "    return top / bottom"
   ]
  },
  {
   "cell_type": "code",
   "execution_count": 8,
   "metadata": {},
   "outputs": [],
   "source": [
    "def geo_plot(my_array, my_lats, my_lons, title, vmin: float=None, vmax: float=None):\n",
    "    if vmax == None:\n",
    "        vmax = np.max(np.abs(my_array))\n",
    "        vmin = -vmax\n",
    "    fig, ax = plt.subplots(figsize=(25,4),subplot_kw={'projection':ccrs.Robinson(central_longitude=180)})\n",
    "    contour_plot = ax.pcolormesh(my_lons, my_lats, my_array, cmap=\"bwr\", transform=ccrs.PlateCarree(), vmax=vmax, vmin=vmin,rasterized=True)\n",
    "    #plt.colorbar(contour_plot, ax=ax)\n",
    "    ax.coastlines(linewidth=1.5,edgecolor='0.25') \n",
    "    ax.gridlines()\n",
    "    ax.add_feature(cfeature.BORDERS,linewidth=1.5,edgecolor='0.25')\n",
    "    ax.set_title(title, fontsize = fz)\n",
    "    \n",
    "    fig.subplots_adjust(right=0.8)\n",
    "    cbar_ax = fig.add_axes([0.805, 0.205, 0.01, 0.60])\n",
    "    cbar = fig.colorbar(contour_plot, cax=cbar_ax)\n",
    "    cbar.set_label(label=r'$\\frac{mm}{day}$', fontsize=fz*1.25)\n",
    "    cbar.ax.tick_params(labelsize=fz*1.25) \n",
    "    cbar.formatter.set_powerlimits((0, 0))\n",
    "    cbar.ax.yaxis.get_offset_text().set(size=fz*1.25)\n",
    "    \n",
    "    #plt.suptitle(\"+4K - 0K\", y=1.02, x=0.45)"
   ]
  },
  {
   "cell_type": "code",
   "execution_count": 9,
   "metadata": {},
   "outputs": [],
   "source": [
    "fz = 15*1.5\n",
    "lw = 4\n",
    "siz = 100\n",
    "XNNA = 1.25 # Abscissa where architecture-constrained network will be placed\n",
    "XTEXT = 0.25 # Text placement\n",
    "YTEXT = 0.3 # Text placement\n",
    "\n",
    "plt.rc('text', usetex=False)\n",
    "matplotlib.rcParams['mathtext.fontset'] = 'stix'\n",
    "matplotlib.rcParams['font.family'] = 'STIXGeneral'\n",
    "#mpl.rcParams[\"font.serif\"] = \"STIX\"\n",
    "plt.rc('font', family='serif', size=fz)\n",
    "matplotlib.rcParams['lines.linewidth'] = lw"
   ]
  },
  {
   "cell_type": "code",
   "execution_count": 10,
   "metadata": {},
   "outputs": [],
   "source": [
    "Precip_4K = np.load(\"/DFS-L/DATA/pritchard/gmooers/1_14_22/Big_W_VAE_Data_With_Precip/4K_Big_Multi_Sim_Precip.npy\")*60.*60.*24.*1000.\n",
    "Precip_0K = np.load(\"/DFS-L/DATA/pritchard/gmooers/1_14_22/Big_W_VAE_Data_With_Precip/Big_Multi_Sim_Precip.npy\")*60.*60.*24.*1000.\n",
    "Lat_4K = np.load(\"/DFS-L/DATA/pritchard/gmooers/1_14_22/Big_W_VAE_Data_With_Precip/4K_Big_Multi_Sim_Lat_Test.npy\")\n",
    "Lon_4K = np.load(\"/DFS-L/DATA/pritchard/gmooers/1_14_22/Big_W_VAE_Data_With_Precip/4K_Big_Multi_Sim_Lon_Test.npy\")\n",
    "Lat_0K = np.load(\"/DFS-L/DATA/pritchard/gmooers/1_14_22/Big_W_VAE_Data_With_Precip/Big_Multi_Sim_Lat_Test.npy\")\n",
    "Lon_0K = np.load(\"/DFS-L/DATA/pritchard/gmooers/1_14_22/Big_W_VAE_Data_With_Precip/Big_Multi_Sim_Lon_Test.npy\")"
   ]
  },
  {
   "cell_type": "code",
   "execution_count": 11,
   "metadata": {},
   "outputs": [],
   "source": [
    "path_to_file = '/DFS-L/DATA/pritchard/gmooers/Raw_Data_Storage/Mikes_Simulations/SST_CTL_Neuralnet_SPCAM_all_Grrifin_864_ens_05/atm/hist/SST_CTL_Neuralnet_SPCAM_all_Grrifin_**.cam.h1.2009*'\n",
    "extra_variables = xr.open_mfdataset(path_to_file)\n",
    "\n",
    "T_GCM_0K = extra_variables.T_LON_0e_to_360e_LAT_20s_to_20n\n",
    "P_GCM_0K = extra_variables.PS_LON_0e_to_360e_LAT_20s_to_20n"
   ]
  },
  {
   "cell_type": "code",
   "execution_count": 12,
   "metadata": {},
   "outputs": [],
   "source": [
    "path_to_file = '/DFS-L/DATA/pritchard/gmooers/Raw_Data_Storage/Mikes_Simulations/SST_4Kp_Neuralnet_SPCAM_all_Grrifin_864_ens_06/atm/hist/SST_4Kp_Neuralnet_SPCAM_all_Grrifin_**.cam.h1.2009*'\n",
    "extra_variables = xr.open_mfdataset(path_to_file)\n",
    "\n",
    "T_GCM_4K = extra_variables.T_LON_0e_to_360e_LAT_20s_to_20n\n",
    "P_GCM_4K = extra_variables.PS_LON_0e_to_360e_LAT_20s_to_20n"
   ]
  },
  {
   "cell_type": "code",
   "execution_count": 13,
   "metadata": {},
   "outputs": [
    {
     "name": "stdout",
     "output_type": "stream",
     "text": [
      "a\n",
      "b\n",
      "a\n",
      "b\n"
     ]
    }
   ],
   "source": [
    "T_GCM_0K_sfc = T_GCM_0K[:,-1].mean(axis=0)\n",
    "T_GCM_4K_sfc = T_GCM_4K[:,-1].mean(axis=0)\n",
    "P_GCM_0K_sfc = P_GCM_0K.mean(axis=0)\n",
    "P_GCM_4K_sfc = P_GCM_4K.mean(axis=0)\n",
    "\n",
    "T_GCM_0K_sfc = T_GCM_0K_sfc.values\n",
    "print(\"a\")\n",
    "T_GCM_4K_sfc = T_GCM_4K_sfc.values\n",
    "print(\"b\")\n",
    "P_GCM_0K_sfc = P_GCM_0K_sfc.values\n",
    "print(\"a\")\n",
    "P_GCM_4K_sfc = P_GCM_4K_sfc.values\n",
    "print(\"b\")"
   ]
  },
  {
   "cell_type": "code",
   "execution_count": 14,
   "metadata": {},
   "outputs": [],
   "source": [
    "qsat_0K = q_sat(T_GCM_0K_sfc, P_GCM_0K_sfc)\n",
    "qsat_4K = q_sat(T_GCM_4K_sfc, P_GCM_4K_sfc)"
   ]
  },
  {
   "cell_type": "markdown",
   "metadata": {},
   "source": [
    "# Load In VAEs and Baselines"
   ]
  },
  {
   "cell_type": "code",
   "execution_count": 15,
   "metadata": {},
   "outputs": [],
   "source": [
    "def proportion_maker(array, lats, lons, my_lat_dic, my_lon_dic):\n",
    "    group_one = np.zeros(shape=(22, 144))\n",
    "    group_two = np.zeros(shape=(22, 144))\n",
    "    group_three = np.zeros(shape=(22, 144))\n",
    "    proportion_one = np.zeros(shape=(22, 144))\n",
    "    proportion_two = np.zeros(shape=(22, 144))\n",
    "    proportion_three = np.zeros(shape=(22, 144))\n",
    "    for i in range(len(array)):\n",
    "        if array[i] == 0:\n",
    "            group_one[my_lat_dic[lats[i]],my_lon_dic[lons[i]]] = group_one[my_lat_dic[lats[i]],my_lon_dic[lons[i]]] + 1\n",
    "        if array[i] == 1:\n",
    "            group_two[my_lat_dic[lats[i]],my_lon_dic[lons[i]]] = group_two[my_lat_dic[lats[i]],my_lon_dic[lons[i]]] + 1\n",
    "        if array[i] == 2:\n",
    "            group_three[my_lat_dic[lats[i]],my_lon_dic[lons[i]]] = group_three[my_lat_dic[lats[i]],my_lon_dic[lons[i]]] + 1\n",
    "    \n",
    "    proportion_one = group_one / (group_one + group_two + group_three)\n",
    "    proportion_two = group_two / (group_one + group_two + group_three)\n",
    "    proportion_three = group_three / (group_one + group_two + group_three)\n",
    "    \n",
    "    return proportion_one, proportion_two, proportion_three\n",
    "    "
   ]
  },
  {
   "cell_type": "code",
   "execution_count": 16,
   "metadata": {},
   "outputs": [],
   "source": [
    "vae_labels_4K = np.load(\"/fast/gmooers/gmooers_git/CBRAIN-CAM/MAPS/Mooers_Logbook/Fully_Convolutional_W/Clustering_Routine/Compressed_Data/Precip_4k_Mandt_Method_3099_Z_3.npy\")\n",
    "vae_labels_0K = np.load(\"/fast/gmooers/gmooers_git/CBRAIN-CAM/MAPS/Mooers_Logbook/Fully_Convolutional_W/Clustering_Routine/Compressed_Data/Precip_0K_Big_SPCAM_Labels_3099_Z_3.npy\")\n",
    "\n",
    "ww_labels_0K = np.load(\"Baseline_Clustering_Proportions/labels_0K_ww_3.npy\")\n",
    "ww_labels_4K = np.load(\"Baseline_Clustering_Proportions/labels_4K_ww_3.npy\")\n",
    "\n",
    "w_labels_0K = np.load(\"Baseline_Clustering_Proportions/labels_0K_w_field_3.npy\")\n",
    "w_labels_4K = np.load(\"Baseline_Clustering_Proportions/labels_4K_w_field_3.npy\")\n",
    "\n",
    "pca_labels_1024_0K = np.load(\"Baseline_Clustering_Proportions/labels_0K_pca_1024_3.npy\")\n",
    "pca_labels_1024_4K = np.load(\"Baseline_Clustering_Proportions/labels_4K_pca_1024_3.npy\")\n",
    "\n",
    "pca_labels_3_0K = np.load(\"Baseline_Clustering_Proportions/labels_0K_pca_3_3.npy\")\n",
    "pca_labels_3_4K = np.load(\"Baseline_Clustering_Proportions/labels_4K_pca_3_3.npy\")\n",
    "\n",
    "pca_3_0K = np.load(\"Baseline_Clustering_Proportions/0K_pca_3.npy\")\n",
    "pca_3_4K = np.load(\"Baseline_Clustering_Proportions/4K_pca_3.npy\")"
   ]
  },
  {
   "cell_type": "code",
   "execution_count": 17,
   "metadata": {},
   "outputs": [
    {
     "name": "stdout",
     "output_type": "stream",
     "text": [
      "41287 44134\n",
      "934895 932301\n",
      "23818 23565\n"
     ]
    }
   ],
   "source": [
    "for i in range(3):\n",
    "    print(np.count_nonzero(w_labels_4K == i), np.count_nonzero(w_labels_0K == i))"
   ]
  },
  {
   "cell_type": "code",
   "execution_count": 18,
   "metadata": {},
   "outputs": [],
   "source": [
    "vae_proportion_0K_one, vae_proportion_0K_two, vae_proportion_0K_three = proportion_maker(vae_labels_0K, Lat_0K, Lon_0K, lat_dic, lon_dic)\n",
    "vae_proportion_4K_one, vae_proportion_4K_two, vae_proportion_4K_three = proportion_maker(vae_labels_4K, Lat_4K, Lon_4K, lat_dic, lon_dic)\n",
    "\n",
    "ww_proportion_0K_one, ww_proportion_0K_two, ww_proportion_0K_three = proportion_maker(ww_labels_0K, Lat_0K, Lon_0K, lat_dic, lon_dic)\n",
    "ww_proportion_4K_one, ww_proportion_4K_two, ww_proportion_4K_three = proportion_maker(ww_labels_4K, Lat_4K, Lon_4K, lat_dic, lon_dic)\n",
    "\n",
    "w_proportion_0K_one, w_proportion_0K_two, w_proportion_0K_three = proportion_maker(w_labels_0K, Lat_0K, Lon_0K, lat_dic, lon_dic)\n",
    "w_proportion_4K_one, w_proportion_4K_two, w_proportion_4K_three = proportion_maker(w_labels_4K, Lat_4K, Lon_4K, lat_dic, lon_dic)\n",
    "\n",
    "pca_proportion_1024_0K_one, pca_proportion_1024_0K_two, pca_proportion_1024_0K_three = proportion_maker(pca_labels_1024_0K, Lat_0K, Lon_0K, lat_dic, lon_dic)\n",
    "pca_proportion_1024_4K_one, pca_proportion_1024_4K_two, pca_proportion_1024_4K_three = proportion_maker(pca_labels_1024_4K, Lat_4K, Lon_4K, lat_dic, lon_dic)\n",
    "\n",
    "pca_proportion_3_0K_one, pca_proportion_3_0K_two, pca_proportion_3_0K_three = proportion_maker(pca_labels_3_0K, Lat_0K, Lon_0K, lat_dic, lon_dic)\n",
    "pca_proportion_3_4K_one, pca_proportion_3_4K_two, pca_proportion_3_4K_three = proportion_maker(pca_labels_3_4K, Lat_4K, Lon_4K, lat_dic, lon_dic)"
   ]
  },
  {
   "cell_type": "markdown",
   "metadata": {},
   "source": [
    "# Simple Model Correlaions"
   ]
  },
  {
   "cell_type": "code",
   "execution_count": 19,
   "metadata": {},
   "outputs": [],
   "source": [
    "lat_lon_0K = np.zeros(shape=(22,144,500))\n",
    "lat_lon_4K = np.zeros(shape=(22,144,500))\n",
    "indexer_0K = np.zeros(shape=(22,144))\n",
    "indexer_4K = np.zeros(shape=(22,144))\n",
    "lat_lon_4K[:, :, :] = np.nan \n",
    "lat_lon_0K[:, :, :] = np.nan\n",
    "count_0K = 0\n",
    "count_4K = 0\n",
    "for i in range(len(Precip_4K)):\n",
    "    lat_lon_0K[lat_dic[Lat_0K[i]],lon_dic[Lon_0K[i]],int(indexer_0K[lat_dic[Lat_0K[i]],lon_dic[Lon_0K[i]]])] = Precip_0K[i]\n",
    "    indexer_0K[lat_dic[Lat_0K[i]],lon_dic[Lon_0K[i]]] = int(indexer_0K[lat_dic[Lat_0K[i]],lon_dic[Lon_0K[i]]] + 1)\n",
    "    lat_lon_4K[lat_dic[Lat_4K[i]],lon_dic[Lon_4K[i]],int(indexer_4K[lat_dic[Lat_4K[i]],lon_dic[Lon_4K[i]]])] = Precip_4K[i]\n",
    "    indexer_4K[lat_dic[Lat_4K[i]],lon_dic[Lon_4K[i]]] = int(indexer_4K[lat_dic[Lat_4K[i]],lon_dic[Lon_4K[i]]] + 1)"
   ]
  },
  {
   "cell_type": "code",
   "execution_count": 20,
   "metadata": {},
   "outputs": [],
   "source": [
    "P_001_0k = np.zeros(shape=(22,144))\n",
    "P_01_0k = np.zeros(shape=(22,144))\n",
    "P_1_0k = np.zeros(shape=(22,144))\n",
    "P_5_0k = np.zeros(shape=(22,144))\n",
    "P_25_0k = np.zeros(shape=(22,144))\n",
    "P_50_0k = np.zeros(shape=(22,144))\n",
    "P_75_0k = np.zeros(shape=(22,144))\n",
    "P_90_0k = np.zeros(shape=(22,144))\n",
    "P_95_0k = np.zeros(shape=(22,144))\n",
    "P_99_0k = np.zeros(shape=(22,144))\n",
    "P_999_0k = np.zeros(shape=(22,144))\n",
    "P_9999_0k = np.zeros(shape=(22,144))\n",
    "\n",
    "P_001_4k = np.zeros(shape=(22,144))\n",
    "P_01_4k = np.zeros(shape=(22,144))\n",
    "P_1_4k = np.zeros(shape=(22,144))\n",
    "P_5_4k = np.zeros(shape=(22,144))\n",
    "P_25_4k = np.zeros(shape=(22,144))\n",
    "P_50_4k = np.zeros(shape=(22,144))\n",
    "P_75_4k = np.zeros(shape=(22,144))\n",
    "P_90_4k = np.zeros(shape=(22,144))\n",
    "P_95_4k = np.zeros(shape=(22,144))\n",
    "P_99_4k = np.zeros(shape=(22,144))\n",
    "P_999_4k = np.zeros(shape=(22,144))\n",
    "P_9999_4k = np.zeros(shape=(22,144))\n",
    "\n",
    "for i in range(len(lat_lon_0K)):\n",
    "    for j in range(len(lat_lon_0K[0])):\n",
    "        P_001_0k[i, j] = np.nanpercentile(lat_lon_0K[i, j], 0.01)\n",
    "        P_01_0k[i, j] = np.nanpercentile(lat_lon_0K[i, j], 0.1)\n",
    "        P_1_0k[i, j] = np.nanpercentile(lat_lon_0K[i, j], 1)\n",
    "        P_5_0k[i, j] = np.nanpercentile(lat_lon_0K[i, j], 5)\n",
    "        P_25_0k[i, j] = np.nanpercentile(lat_lon_0K[i, j], 25)\n",
    "        P_50_0k[i, j] = np.nanpercentile(lat_lon_0K[i, j], 50)\n",
    "        P_75_0k[i, j] = np.nanpercentile(lat_lon_0K[i, j], 75)\n",
    "        P_90_0k[i, j] = np.nanpercentile(lat_lon_0K[i, j], 90)\n",
    "        P_95_0k[i, j] = np.nanpercentile(lat_lon_0K[i, j], 95)\n",
    "        P_99_0k[i, j] = np.nanpercentile(lat_lon_0K[i, j], 99)\n",
    "        P_999_0k[i, j] = np.nanpercentile(lat_lon_0K[i, j], 99.9)\n",
    "        P_9999_0k[i, j] = np.nanpercentile(lat_lon_0K[i, j], 99.99)\n",
    "        \n",
    "        P_001_4k[i, j] = np.nanpercentile(lat_lon_4K[i, j], 0.01)\n",
    "        P_01_4k[i, j] = np.nanpercentile(lat_lon_4K[i, j], 0.1)\n",
    "        P_1_4k[i, j] = np.nanpercentile(lat_lon_4K[i, j], 1)\n",
    "        P_5_4k[i, j] = np.nanpercentile(lat_lon_4K[i, j], 5)\n",
    "        P_25_4k[i, j] = np.nanpercentile(lat_lon_4K[i, j], 25)\n",
    "        P_50_4k[i, j] = np.nanpercentile(lat_lon_4K[i, j], 50)\n",
    "        P_75_4k[i, j] = np.nanpercentile(lat_lon_4K[i, j], 75)\n",
    "        P_90_4k[i, j] = np.nanpercentile(lat_lon_4K[i, j], 90)\n",
    "        P_95_4k[i, j] = np.nanpercentile(lat_lon_4K[i, j], 95)\n",
    "        P_99_4k[i, j] = np.nanpercentile(lat_lon_4K[i, j], 99)\n",
    "        P_999_4k[i, j] = np.nanpercentile(lat_lon_4K[i, j], 99.9)\n",
    "        P_9999_4k[i, j] = np.nanpercentile(lat_lon_4K[i, j], 99.99)"
   ]
  },
  {
   "cell_type": "code",
   "execution_count": 21,
   "metadata": {},
   "outputs": [],
   "source": [
    "def lin_reg(P, q_sat, Pi_1, Pi_2, Pi_3):\n",
    "    reg = LinearRegression(fit_intercept=True, normalize=False)\n",
    "    y = P / q_sat \n",
    "    y_lin_reg = gaussian_filter(y, 2, mode='nearest').ravel()\n",
    "    \n",
    "    X = np.empty(shape=(Pi_1.size, 3))\n",
    "    X[:, 0] = gaussian_filter(Pi_1, 2, mode='nearest').ravel()\n",
    "    X[:, 1] = gaussian_filter(Pi_2, 2, mode='nearest').ravel()\n",
    "    X[:, 2] = gaussian_filter(Pi_3, 2, mode='nearest').ravel()\n",
    "\n",
    "\n",
    "    reg.fit(X, y_lin_reg)\n",
    "    return reg.score(X, y_lin_reg), reg.coef_, reg.intercept_"
   ]
  },
  {
   "cell_type": "code",
   "execution_count": 22,
   "metadata": {},
   "outputs": [],
   "source": [
    "def lin_reg_vae(P, q_sat, Pi_1, Pi_2):\n",
    "    reg = LinearRegression(fit_intercept=True, normalize=False)\n",
    "    y = P / q_sat \n",
    "    y_lin_reg = gaussian_filter(y, 2, mode='nearest').ravel()\n",
    "    \n",
    "    X = np.empty(shape=(Pi_1.size, 2))\n",
    "    X[:, 0] = gaussian_filter(Pi_1, 2, mode='nearest').ravel()\n",
    "    X[:, 1] = gaussian_filter(Pi_2, 2, mode='nearest').ravel()\n",
    "\n",
    "\n",
    "    reg.fit(X, y_lin_reg)\n",
    "    return reg.score(X, y_lin_reg), reg.coef_, reg.intercept_"
   ]
  },
  {
   "cell_type": "code",
   "execution_count": 23,
   "metadata": {},
   "outputs": [],
   "source": [
    "y_0K_Scores_vae = [lin_reg_vae(P_001_0k, qsat_0K, vae_proportion_0K_one, vae_proportion_0K_two)[0],\n",
    "    lin_reg_vae(P_01_0k, qsat_0K, vae_proportion_0K_one, vae_proportion_0K_two)[0],\n",
    "    lin_reg_vae(P_1_0k, qsat_0K, vae_proportion_0K_one, vae_proportion_0K_two)[0],\n",
    "    lin_reg_vae(P_5_0k, qsat_0K, vae_proportion_0K_one, vae_proportion_0K_two)[0],\n",
    "    lin_reg_vae(P_25_0k, qsat_0K, vae_proportion_0K_one, vae_proportion_0K_two)[0],\n",
    "    lin_reg_vae(P_50_0k, qsat_0K, vae_proportion_0K_one, vae_proportion_0K_two)[0],\n",
    "    lin_reg_vae(P_75_0k, qsat_0K, vae_proportion_0K_one, vae_proportion_0K_two)[0],\n",
    "    lin_reg_vae(P_95_0k, qsat_0K, vae_proportion_0K_one, vae_proportion_0K_two)[0],\n",
    "    lin_reg_vae(P_99_0k, qsat_0K, vae_proportion_0K_one, vae_proportion_0K_two)[0],\n",
    "    lin_reg_vae(P_999_0k, qsat_0K, vae_proportion_0K_one, vae_proportion_0K_two)[0],\n",
    "    lin_reg_vae(P_9999_0k, qsat_0K, vae_proportion_0K_one,vae_proportion_0K_two)[0]]\n",
    "\n",
    "y_4K_Scores_vae = [lin_reg_vae(P_001_4k, qsat_4K, vae_proportion_4K_one, vae_proportion_4K_two)[0],\n",
    "    lin_reg_vae(P_01_4k, qsat_4K, vae_proportion_4K_one, vae_proportion_4K_two)[0],\n",
    "    lin_reg_vae(P_1_4k, qsat_4K, vae_proportion_4K_one, vae_proportion_4K_two)[0],\n",
    "    lin_reg_vae(P_5_4k, qsat_4K, vae_proportion_4K_one, vae_proportion_4K_two)[0],\n",
    "    lin_reg_vae(P_25_4k, qsat_4K, vae_proportion_4K_one, vae_proportion_4K_two)[0],\n",
    "    lin_reg_vae(P_50_4k, qsat_4K, vae_proportion_4K_one, vae_proportion_4K_two)[0],\n",
    "    lin_reg_vae(P_75_4k, qsat_4K, vae_proportion_4K_one, vae_proportion_4K_two)[0],\n",
    "    lin_reg_vae(P_95_4k, qsat_4K, vae_proportion_4K_one, vae_proportion_4K_two)[0],\n",
    "    lin_reg_vae(P_99_4k, qsat_4K, vae_proportion_4K_one, vae_proportion_4K_two)[0],\n",
    "    lin_reg_vae(P_999_4k, qsat_4K, vae_proportion_4K_one, vae_proportion_4K_two)[0],\n",
    "    lin_reg_vae(P_9999_4k, qsat_4K, vae_proportion_4K_one, vae_proportion_4K_two)[0]]"
   ]
  },
  {
   "cell_type": "code",
   "execution_count": 24,
   "metadata": {},
   "outputs": [],
   "source": [
    "y_0K_Scores_ww = [lin_reg_vae(P_001_0k, qsat_0K, ww_proportion_0K_one, ww_proportion_0K_two)[0],\n",
    "    lin_reg_vae(P_01_0k, qsat_0K, ww_proportion_0K_one, ww_proportion_0K_two)[0],\n",
    "    lin_reg_vae(P_1_0k, qsat_0K, ww_proportion_0K_one, ww_proportion_0K_two)[0],\n",
    "    lin_reg_vae(P_5_0k, qsat_0K, ww_proportion_0K_one, ww_proportion_0K_two)[0],\n",
    "    lin_reg_vae(P_25_0k, qsat_0K, ww_proportion_0K_one, ww_proportion_0K_two)[0],\n",
    "    lin_reg_vae(P_50_0k, qsat_0K, ww_proportion_0K_one, ww_proportion_0K_two)[0],\n",
    "    lin_reg_vae(P_75_0k, qsat_0K, ww_proportion_0K_one, ww_proportion_0K_two)[0],\n",
    "    lin_reg_vae(P_95_0k, qsat_0K, ww_proportion_0K_one, ww_proportion_0K_two)[0],\n",
    "    lin_reg_vae(P_99_0k, qsat_0K, ww_proportion_0K_one, ww_proportion_0K_two)[0],\n",
    "    lin_reg_vae(P_999_0k, qsat_0K, ww_proportion_0K_one, ww_proportion_0K_two)[0],\n",
    "    lin_reg_vae(P_9999_0k, qsat_0K, ww_proportion_0K_one, ww_proportion_0K_two)[0]]\n",
    "\n",
    "y_4K_Scores_ww = [lin_reg_vae(P_001_4k, qsat_4K, ww_proportion_4K_one, ww_proportion_4K_two)[0],\n",
    "    lin_reg_vae(P_01_4k, qsat_4K, ww_proportion_4K_one, ww_proportion_4K_two)[0],\n",
    "    lin_reg_vae(P_1_4k, qsat_4K, ww_proportion_4K_one, ww_proportion_4K_two)[0],\n",
    "    lin_reg_vae(P_5_4k, qsat_4K, ww_proportion_4K_one, ww_proportion_4K_two)[0],\n",
    "    lin_reg_vae(P_25_4k, qsat_4K, ww_proportion_4K_one, ww_proportion_4K_two)[0],\n",
    "    lin_reg_vae(P_50_4k, qsat_4K, ww_proportion_4K_one, ww_proportion_4K_two)[0],\n",
    "    lin_reg_vae(P_75_4k, qsat_4K, ww_proportion_4K_one, ww_proportion_4K_two)[0],\n",
    "    lin_reg_vae(P_95_4k, qsat_4K, ww_proportion_4K_one, ww_proportion_4K_two)[0],\n",
    "    lin_reg_vae(P_99_4k, qsat_4K, ww_proportion_4K_one, ww_proportion_4K_two)[0],\n",
    "    lin_reg_vae(P_999_4k, qsat_4K, ww_proportion_4K_one, ww_proportion_4K_two)[0],\n",
    "    lin_reg_vae(P_9999_4k, qsat_4K, ww_proportion_4K_one, ww_proportion_4K_two)[0]]"
   ]
  },
  {
   "cell_type": "code",
   "execution_count": 25,
   "metadata": {},
   "outputs": [],
   "source": [
    "y_0K_Scores_w = [lin_reg(P_001_0k, qsat_0K, w_proportion_0K_one, w_proportion_0K_two, w_proportion_0K_three)[0],\n",
    "    lin_reg(P_01_0k, qsat_0K, w_proportion_0K_one, w_proportion_0K_two, w_proportion_0K_three)[0],\n",
    "    lin_reg(P_1_0k, qsat_0K, w_proportion_0K_one, w_proportion_0K_two, w_proportion_0K_three)[0],\n",
    "    lin_reg(P_5_0k, qsat_0K, w_proportion_0K_one, w_proportion_0K_two, w_proportion_0K_three)[0],\n",
    "    lin_reg(P_25_0k, qsat_0K, w_proportion_0K_one, w_proportion_0K_two, w_proportion_0K_three)[0],\n",
    "    lin_reg(P_50_0k, qsat_0K, w_proportion_0K_one, w_proportion_0K_two, w_proportion_0K_three)[0],\n",
    "    lin_reg(P_75_0k, qsat_0K, w_proportion_0K_one, w_proportion_0K_two, w_proportion_0K_three)[0],\n",
    "    lin_reg(P_95_0k, qsat_0K, w_proportion_0K_one, w_proportion_0K_two, w_proportion_0K_three)[0],\n",
    "    lin_reg(P_99_0k, qsat_0K, w_proportion_0K_one, w_proportion_0K_two, w_proportion_0K_three)[0],\n",
    "    lin_reg(P_999_0k, qsat_0K, w_proportion_0K_one, w_proportion_0K_two, w_proportion_0K_three)[0],\n",
    "    lin_reg(P_9999_0k, qsat_0K, w_proportion_0K_one, w_proportion_0K_two, w_proportion_0K_three)[0]]\n",
    "\n",
    "y_4K_Scores_w = [lin_reg(P_001_4k, qsat_4K, w_proportion_4K_one, w_proportion_4K_two, w_proportion_4K_three)[0],\n",
    "    lin_reg(P_01_4k, qsat_4K, w_proportion_4K_one, w_proportion_4K_two, w_proportion_4K_three)[0],\n",
    "    lin_reg(P_1_4k, qsat_4K, w_proportion_4K_one, w_proportion_4K_two, w_proportion_4K_three)[0],\n",
    "    lin_reg(P_5_4k, qsat_4K, w_proportion_4K_one, w_proportion_4K_two, w_proportion_4K_three)[0],\n",
    "    lin_reg(P_25_4k, qsat_4K, w_proportion_4K_one, w_proportion_4K_two, w_proportion_4K_three)[0],\n",
    "    lin_reg(P_50_4k, qsat_4K, w_proportion_4K_one, w_proportion_4K_two, w_proportion_4K_three)[0],\n",
    "    lin_reg(P_75_4k, qsat_4K, w_proportion_4K_one, w_proportion_4K_two, w_proportion_4K_three)[0],\n",
    "    lin_reg(P_95_4k, qsat_4K, w_proportion_4K_one, w_proportion_4K_two, w_proportion_4K_three)[0],\n",
    "    lin_reg(P_99_4k, qsat_4K, w_proportion_4K_one, w_proportion_4K_two, w_proportion_4K_three)[0],\n",
    "    lin_reg(P_999_4k, qsat_4K, w_proportion_4K_one, w_proportion_4K_two, w_proportion_4K_three)[0],\n",
    "    lin_reg(P_9999_4k, qsat_4K, w_proportion_4K_one, w_proportion_4K_two, w_proportion_4K_three)[0]]"
   ]
  },
  {
   "cell_type": "code",
   "execution_count": 26,
   "metadata": {},
   "outputs": [],
   "source": [
    "y_0K_Scores_pca_1024 = [lin_reg(P_001_0k, qsat_0K, pca_proportion_1024_0K_one, pca_proportion_1024_0K_two, pca_proportion_1024_0K_three)[0],\n",
    "    lin_reg(P_01_0k, qsat_0K, pca_proportion_1024_0K_one, pca_proportion_1024_0K_two, pca_proportion_1024_0K_three)[0],\n",
    "    lin_reg(P_1_0k, qsat_0K, pca_proportion_1024_0K_one, pca_proportion_1024_0K_two, pca_proportion_1024_0K_three)[0],\n",
    "    lin_reg(P_5_0k, qsat_0K, pca_proportion_1024_0K_one, pca_proportion_1024_0K_two, pca_proportion_1024_0K_three)[0],\n",
    "    lin_reg(P_25_0k, qsat_0K, pca_proportion_1024_0K_one, pca_proportion_1024_0K_two, pca_proportion_1024_0K_three)[0],\n",
    "    lin_reg(P_50_0k, qsat_0K, pca_proportion_1024_0K_one, pca_proportion_1024_0K_two, pca_proportion_1024_0K_three)[0],\n",
    "    lin_reg(P_75_0k, qsat_0K, pca_proportion_1024_0K_one, pca_proportion_1024_0K_two, pca_proportion_1024_0K_three)[0],\n",
    "    lin_reg(P_95_0k, qsat_0K, pca_proportion_1024_0K_one, pca_proportion_1024_0K_two, pca_proportion_1024_0K_three)[0],\n",
    "    lin_reg(P_99_0k, qsat_0K, pca_proportion_1024_0K_one, pca_proportion_1024_0K_two, pca_proportion_1024_0K_three)[0],\n",
    "    lin_reg(P_999_0k, qsat_0K, pca_proportion_1024_0K_one, pca_proportion_1024_0K_two, pca_proportion_1024_0K_three)[0],\n",
    "    lin_reg(P_9999_0k, qsat_0K, pca_proportion_1024_0K_one, pca_proportion_1024_0K_two, pca_proportion_1024_0K_three)[0]]\n",
    "\n",
    "y_4K_Scores_pca_1024 = [lin_reg(P_001_4k, qsat_4K, pca_proportion_1024_4K_one, pca_proportion_1024_4K_two, pca_proportion_1024_4K_three)[0],\n",
    "    lin_reg(P_01_4k, qsat_4K, pca_proportion_1024_4K_one, pca_proportion_1024_4K_two, pca_proportion_1024_4K_three)[0],\n",
    "    lin_reg(P_1_4k, qsat_4K, pca_proportion_1024_4K_one, pca_proportion_1024_4K_two, pca_proportion_1024_4K_three)[0],\n",
    "    lin_reg(P_5_4k, qsat_4K, pca_proportion_1024_4K_one, pca_proportion_1024_4K_two, pca_proportion_1024_4K_three)[0],\n",
    "    lin_reg(P_25_4k, qsat_4K, pca_proportion_1024_4K_one, pca_proportion_1024_4K_two, pca_proportion_1024_4K_three)[0],\n",
    "    lin_reg(P_50_4k, qsat_4K, pca_proportion_1024_4K_one, pca_proportion_1024_4K_two, pca_proportion_1024_4K_three)[0],\n",
    "    lin_reg(P_75_4k, qsat_4K, pca_proportion_1024_4K_one, pca_proportion_1024_4K_two, pca_proportion_1024_4K_three)[0],\n",
    "    lin_reg(P_95_4k, qsat_4K, pca_proportion_1024_4K_one, pca_proportion_1024_4K_two, pca_proportion_1024_4K_three)[0],\n",
    "    lin_reg(P_99_4k, qsat_4K, pca_proportion_1024_4K_one, pca_proportion_1024_4K_two, pca_proportion_1024_4K_three)[0],\n",
    "    lin_reg(P_999_4k, qsat_4K, pca_proportion_1024_4K_one, pca_proportion_1024_4K_two, pca_proportion_1024_4K_three)[0],\n",
    "    lin_reg(P_9999_4k, qsat_4K, pca_proportion_1024_4K_one, pca_proportion_1024_4K_two, pca_proportion_1024_4K_three)[0]]"
   ]
  },
  {
   "cell_type": "code",
   "execution_count": 27,
   "metadata": {},
   "outputs": [],
   "source": [
    "y_0K_Scores_pca_3 = [lin_reg(P_001_0k, qsat_0K, pca_proportion_3_0K_one, pca_proportion_3_0K_two, pca_proportion_3_0K_three)[0],\n",
    "    lin_reg(P_01_0k, qsat_0K, pca_proportion_3_0K_one, pca_proportion_3_0K_two, pca_proportion_3_0K_three)[0],\n",
    "    lin_reg(P_1_0k, qsat_0K, pca_proportion_3_0K_one, pca_proportion_3_0K_two, pca_proportion_3_0K_three)[0],\n",
    "    lin_reg(P_5_0k, qsat_0K, pca_proportion_3_0K_one, pca_proportion_3_0K_two, pca_proportion_3_0K_three)[0],\n",
    "    lin_reg(P_25_0k, qsat_0K, pca_proportion_3_0K_one, pca_proportion_3_0K_two, pca_proportion_3_0K_three)[0],\n",
    "    lin_reg(P_50_0k, qsat_0K, pca_proportion_3_0K_one, pca_proportion_3_0K_two, pca_proportion_3_0K_three)[0],\n",
    "    lin_reg(P_75_0k, qsat_0K, pca_proportion_3_0K_one, pca_proportion_3_0K_two, pca_proportion_3_0K_three)[0],\n",
    "    lin_reg(P_95_0k, qsat_0K, pca_proportion_3_0K_one, pca_proportion_3_0K_two, pca_proportion_3_0K_three)[0],\n",
    "    lin_reg(P_99_0k, qsat_0K, pca_proportion_3_0K_one, pca_proportion_3_0K_two, pca_proportion_3_0K_three)[0],\n",
    "    lin_reg(P_999_0k, qsat_0K, pca_proportion_3_0K_one, pca_proportion_3_0K_two, pca_proportion_3_0K_three)[0],\n",
    "    lin_reg(P_9999_0k, qsat_0K, pca_proportion_3_0K_one, pca_proportion_3_0K_two, pca_proportion_3_0K_three)[0]]\n",
    "\n",
    "y_4K_Scores_pca_3 = [lin_reg(P_001_4k, qsat_4K, pca_proportion_3_4K_one, pca_proportion_3_4K_two, pca_proportion_3_4K_three)[0],\n",
    "    lin_reg(P_01_4k, qsat_4K, pca_proportion_3_4K_one, pca_proportion_3_4K_two, pca_proportion_3_4K_three)[0],\n",
    "    lin_reg(P_1_4k, qsat_4K, pca_proportion_3_4K_one, pca_proportion_3_4K_two, pca_proportion_3_4K_three)[0],\n",
    "    lin_reg(P_5_4k, qsat_4K, pca_proportion_3_4K_one, pca_proportion_3_4K_two, pca_proportion_3_4K_three)[0],\n",
    "    lin_reg(P_25_4k, qsat_4K, pca_proportion_3_4K_one, pca_proportion_3_4K_two, pca_proportion_3_4K_three)[0],\n",
    "    lin_reg(P_50_4k, qsat_4K, pca_proportion_3_4K_one, pca_proportion_3_4K_two, pca_proportion_3_4K_three)[0],\n",
    "    lin_reg(P_75_4k, qsat_4K, pca_proportion_3_4K_one, pca_proportion_3_4K_two, pca_proportion_3_4K_three)[0],\n",
    "    lin_reg(P_95_4k, qsat_4K, pca_proportion_3_4K_one, pca_proportion_3_4K_two, pca_proportion_3_4K_three)[0],\n",
    "    lin_reg(P_99_4k, qsat_4K, pca_proportion_3_4K_one, pca_proportion_3_4K_two, pca_proportion_3_4K_three)[0],\n",
    "    lin_reg(P_999_4k, qsat_4K, pca_proportion_3_4K_one, pca_proportion_3_4K_two, pca_proportion_3_4K_three)[0],\n",
    "    lin_reg(P_9999_4k, qsat_4K, pca_proportion_3_4K_one, pca_proportion_3_4K_two, pca_proportion_3_4K_three)[0]]"
   ]
  },
  {
   "cell_type": "code",
   "execution_count": 29,
   "metadata": {},
   "outputs": [
    {
     "data": {
      "image/png": "[encoded data removed]",
      "text/plain": [
       "<Figure size 576x576 with 1 Axes>"
      ]
     },
     "metadata": {
      "needs_background": "light"
     },
     "output_type": "display_data"
    }
   ],
   "source": [
    "x = [0.01, 0.1, 1, 5, 25, 50, 75, 95, 99, 99.9, 99.99]\n",
    "fig, ax = plt.subplots(figsize=(8,8))\n",
    "ax.set_xlabel(\"Precipitation Percentile\")\n",
    "ax.set_ylim(0, 1)\n",
    "ax.set_ylabel(\"Coeff. of Determination of Prediction\")\n",
    "ax.plot(x, y_0K_Scores_vae, linewidth=4, color=\"blue\", label=\"0K\")\n",
    "ax.plot(x, y_4K_Scores_vae, linewidth=4, color=\"red\", label=\"+4K\")\n",
    "ax.legend()\n",
    "ax.grid()\n",
    "plt.suptitle(\"Model Performance\", y=0.93)\n",
    "ax.set_xlim(0,100)\n",
    "plt.savefig(\"Figures/Model_Performance.png\", bbox_inches='tight',pad_inches = 0.1)\n",
    "plt.savefig(\"Figures/Model_Performance.pdf\", bbox_inches='tight',pad_inches = 0.1)"
   ]
  }
 ],
 "metadata": {
  "kernelspec": {
   "display_name": "Python 3",
   "language": "python",
   "name": "python3"
  },
  "language_info": {
   "codemirror_mode": {
    "name": "ipython",
    "version": 3
   },
   "file_extension": ".py",
   "mimetype": "text/x-python",
   "name": "python",
   "nbconvert_exporter": "python",
   "pygments_lexer": "ipython3",
   "version": "3.7.3"
  }
 },
 "nbformat": 4,
 "nbformat_minor": 4
}
