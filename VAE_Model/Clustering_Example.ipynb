{
 "cells": [
  {
   "cell_type": "code",
   "execution_count": 1,
   "metadata": {},
   "outputs": [],
   "source": [
    "import numpy as np\n",
    "import matplotlib.cm as cm\n",
    "from matplotlib import ticker\n",
    "import math\n",
    "import scipy\n",
    "from scipy import spatial\n",
    "import matplotlib.pyplot as plt\n",
    "import matplotlib\n",
    "import xarray as xr\n",
    "import dask\n",
    "from sklearn.neighbors import KDTree\n",
    "import netCDF4\n",
    "from metpy import calc\n",
    "from metpy.units import units\n",
    "from sklearn.preprocessing import StandardScaler\n",
    "from sklearn.decomposition import PCA\n",
    "from scipy import stats\n",
    "import pandas as pd\n",
    "\n",
    "from sklearn.cluster import KMeans\n",
    "from mpl_toolkits.axes_grid1 import make_axes_locatable\n",
    "from sklearn import metrics\n",
    "#from yellowbrick.cluster import KElbowVisualizer"
   ]
  },
  {
   "cell_type": "code",
   "execution_count": 2,
   "metadata": {},
   "outputs": [],
   "source": [
    "fz = 15*1.5\n",
    "lw = 4\n",
    "siz = 100\n",
    "XNNA = 1.25 # Abscissa where architecture-constrained network will be placed\n",
    "XTEXT = 0.25 # Text placement\n",
    "YTEXT = 0.3 # Text placement\n",
    "\n",
    "plt.rc('text', usetex=False)\n",
    "matplotlib.rcParams['mathtext.fontset'] = 'stix'\n",
    "matplotlib.rcParams['font.family'] = 'STIXGeneral'\n",
    "#mpl.rcParams[\"font.serif\"] = \"STIX\"\n",
    "plt.rc('font', family='serif', size=fz)\n",
    "matplotlib.rcParams['lines.linewidth'] = lw"
   ]
  },
  {
   "cell_type": "code",
   "execution_count": 3,
   "metadata": {},
   "outputs": [],
   "source": [
    "others = netCDF4.Dataset(\"/fast/gmooers/Raw_Data/extras/TimestepOutput_Neuralnet_SPCAM_216.cam.h1.2009-01-01-00000.nc\")\n",
    "levs = np.array(others.variables['lev'])\n",
    "lons = np.array(others.variables['lon'])\n",
    "new = np.flip(levs)\n",
    "crms = np.arange(1,129,1)\n",
    "Xs, Zs = np.meshgrid(crms, new)"
   ]
  },
  {
   "cell_type": "code",
   "execution_count": null,
   "metadata": {},
   "outputs": [],
   "source": [
    "kmeans = KMeans(n_clusters=3).fit(z_vector_scaled)\n",
    "labels_3 = kmeans.labels_\n",
    "centers_3 = kmeans.cluster_centers_\n",
    "np.save(\"../Compressed_Data/Paper_Big_SPCAM_Labels_3100_Z_3.npy\",labels_3)\n",
    "np.save(\"../Compressed_Data/Paper_Big_SPCAM_Centers_3100_Z_3.npy\",centers_3)"
   ]
  }
 ],
 "metadata": {
  "kernelspec": {
   "display_name": "Python 3",
   "language": "python",
   "name": "python3"
  },
  "language_info": {
   "codemirror_mode": {
    "name": "ipython",
    "version": 3
   },
   "file_extension": ".py",
   "mimetype": "text/x-python",
   "name": "python",
   "nbconvert_exporter": "python",
   "pygments_lexer": "ipython3",
   "version": "3.7.3"
  }
 },
 "nbformat": 4,
 "nbformat_minor": 4
}
